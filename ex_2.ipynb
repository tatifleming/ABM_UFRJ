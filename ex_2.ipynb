{
 "cells": [
  {
   "cell_type": "code",
   "execution_count": null,
   "metadata": {},
   "outputs": [],
   "source": [
    "MODELBEGIN\n",
    "\n",
    "// insert your equations here, ONLY between the MODELBEGIN and MODELEND words\n",
    "\n",
    "//PART 1\n",
    "EQUATION(\"Price\")\n",
    "v[0] = V(\"monopoly_degree\");  // parameter: monopoly degree\n",
    "v[1] = V(\"Cost\");\n",
    "v[2] = V(\"Desired\");\n",
    "v[3] = AVEL(\"Price\", 1);\n",
    "v[4] = v[0]*v[2]+(1 - v[0])*v[3];\n",
    "RESULT(v[4])\n",
    "\n",
    "EQUATION(\"Desired\")\n",
    "v[0]= V(\"Cost\"); // Cost of Firm i in period t\n",
    "v[1]= V(\"markup\"); // parameter: fixed markup\n",
    "v[2]= (1 + v[1])*v[0];\n",
    "RESULT(v[2])\n",
    "\n",
    "EQUATION (\"Cost\")\n",
    "v[0]= V(\"avg\"); //parameter\n",
    "v[1] = V(\"sd\"); //parameter\n",
    "v[2] = norm(v[0],v[1]); \n",
    "RESULT(v[2])\n",
    "\n",
    "EQUATION(\"Avg_Price\")\n",
    "v[0]=0;\n",
    "v[2]=0;\n",
    "CYCLE(cur, \"FIRM\")\n",
    "{\n",
    "\tv[1]=VS(cur, \"Price\");\n",
    "\tv[0] = v[0] +v[1];\n",
    "\tv[2] = v[2] +1; \n",
    "}\n",
    "RESULT(v[2])\n",
    "\n",
    "// PART 2\n",
    "// Using the CYCLE, create a variable on the Sector object that finds the value of the maximum price among the firms in each period. (Hint: you might need to use ”if else”. Check the documentation to see how to use the conditional) \n",
    "\n",
    "EQUATION(\"Max_Price\")\n",
    "v[0]=0;\n",
    "CYCLE(cur, \"FIRM\")\n",
    "{\n",
    "  v[1] = MAXS( cur, \"Price\" );\n",
    "  v[0] = v[0] + v[1];\n",
    "}\n",
    "RESULT(v[0])\n",
    "\n",
    "\n",
    "MODELEND"
   ]
  },
  {
   "cell_type": "code",
   "execution_count": null,
   "metadata": {},
   "outputs": [],
   "source": []
  }
 ],
 "metadata": {
  "language_info": {
   "name": "python"
  },
  "orig_nbformat": 4
 },
 "nbformat": 4,
 "nbformat_minor": 2
}
